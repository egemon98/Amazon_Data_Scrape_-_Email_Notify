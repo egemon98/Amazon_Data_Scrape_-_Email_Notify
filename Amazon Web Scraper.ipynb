{
 "cells": [
  {
   "cell_type": "markdown",
   "id": "1ebf2219-f0d7-4bb0-99a0-9f22ef8a7d66",
   "metadata": {},
   "source": [
    "# Import Libraries"
   ]
  },
  {
   "cell_type": "code",
   "execution_count": 30,
   "id": "beb66405-f074-4907-b7e6-49e5aacb9349",
   "metadata": {},
   "outputs": [],
   "source": [
    "from bs4 import BeautifulSoup\n",
    "import requests\n",
    "import time\n",
    "import datetime\n",
    "import smtplib"
   ]
  },
  {
   "cell_type": "markdown",
   "id": "a4aeba0a-c0c1-4ce3-8d7e-07c9549a67a7",
   "metadata": {},
   "source": [
    "# Connect the Website"
   ]
  },
  {
   "cell_type": "code",
   "execution_count": 79,
   "id": "8f5b5480-235a-4b1c-965c-7bdb4b164c0b",
   "metadata": {},
   "outputs": [
    {
     "name": "stdout",
     "output_type": "stream",
     "text": [
      "<!DOCTYPE html>\n",
      "\n",
      "<!--[if lt IE 7]> <html lang=\"en-us\" class=\"a-no-js a-lt-ie9 a-lt-ie8 a-lt-ie7\"> <![endif]-->\n",
      "<!--[if IE 7]>    <html lang=\"en-us\" class=\"a-no-js a-lt-ie9 a-lt-ie8\"> <![endif]-->\n",
      "<!--[if IE 8]>    <html lang=\"en-us\" class=\"a-no-js a-lt-ie9\"> <![endif]-->\n",
      "<!--[if gt IE 8]><!-->\n",
      "<html class=\"a-no-js\" lang=\"en-us\">\n",
      "<!--<![endif]-->\n",
      "<head>\n",
      "<meta content=\"text/html; charset=utf-8\" http-equiv=\"content-type\"/>\n",
      "<meta charset=\"utf-8\"/>\n",
      "<meta content=\"IE=edge,chrome=1\" http-equiv=\"X-UA-Compatible\"/>\n",
      "<title dir=\"ltr\">\n",
      "   Amazon.com\n",
      "  </title>\n",
      "<meta content=\"width=device-width\" name=\"viewport\"/>\n",
      "<link href=\"https://images-na.ssl-images-amazon.com/images/G/01/AUIClients/AmazonUI-3c913031596ca78a3768f4e934b1cc02ce238101.secure.min._V1_.css\" rel=\"stylesheet\"/>\n",
      "<script>\n",
      "   if (true === true) {\n",
      "    var ue_t0 = (+ new Date()),\n",
      "        ue_csm = window,\n",
      "        ue = { t0: ue_t0, d: function() { return (+new Date() - ue_t0); } },\n",
      "        ue_furl = \"fls-na.amazon.com\",\n",
      "        ue_mid = \"ATVPDKIKX0DER\",\n",
      "        ue_sid = (document.cookie.match(/session-id=([0-9-]+)/) || [])[1],\n",
      "        ue_sn = \"opfcaptcha.amazon.com\",\n",
      "        ue_id = 'K5QSE4F1EP2YGBNG7AR3';\n",
      "}\n",
      "  </script>\n",
      "</head>\n",
      "<body>\n",
      "<!--\n",
      "        To discuss automated access to Amazon data please contact api-services-support@amazon.com.\n",
      "        For information about migrating to our APIs refer to our Marketplace APIs at https://developer.amazonservices.com/ref=rm_c_sv, or our Product Advertising API at https://affiliate-program.amazon.com/gp/advertising/api/detail/main.html/ref=rm_c_ac for advertising use cases.\n",
      "-->\n",
      "<!--\n",
      "Correios.DoNotSend\n",
      "-->\n",
      "<div class=\"a-container a-padding-double-large\" style=\"min-width:350px;padding:44px 0 !important\">\n",
      "<div class=\"a-row a-spacing-double-large\" style=\"width: 350px; margin: 0 auto\">\n",
      "<div class=\"a-row a-spacing-medium a-text-center\">\n",
      "<i class=\"a-icon a-logo\">\n",
      "</i>\n",
      "</div>\n",
      "<div class=\"a-box a-alert a-alert-info a-spacing-base\">\n",
      "<div class=\"a-box-inner\">\n",
      "<i class=\"a-icon a-icon-alert\">\n",
      "</i>\n",
      "<h4>\n",
      "       Enter the characters you see below\n",
      "      </h4>\n",
      "<p class=\"a-last\">\n",
      "       Sorry, we just need to make sure you're not a robot. For best results, please make sure your browser is accepting cookies.\n",
      "      </p>\n",
      "</div>\n",
      "</div>\n",
      "<div class=\"a-section\">\n",
      "<div class=\"a-box a-color-offset-background\">\n",
      "<div class=\"a-box-inner a-padding-extra-large\">\n",
      "<form action=\"/errors/validateCaptcha\" method=\"get\" name=\"\">\n",
      "<input name=\"amzn\" type=\"hidden\" value=\"zzpr8wYJ/v50fEqDfLj9Sg==\"/>\n",
      "<input name=\"amzn-r\" type=\"hidden\" value=\"/HP-Desktop-Display-Processor-Keyboard/dp/B0B6523VBD/ref=sr_1_1?_encoding=UTF8&amp;content-id=amzn1.sym.6afe7900-0834-4d0d-afa0-213431caed72&amp;dib=eyJ2IjoiMSJ9.KcPm2xgne0GL1RFQzkveXJaobycLsagKm8jWZ74v2UXquHBL7DlbwCjrBjK_vVifZo3Lr1eElCBrj8Gzk9Hiw1FchaEDyoOwQAu4-QfuhIbWOQpHI-SUvF3vEWhrnGlJIIX40Znnr_PGaFDs9WNRVgwRBqDTfBQTiXj3WB7EpRjAcH8bJkqdjVltZVV1oSJGA7r6S0d2MdFnThBcyZPbNrWMRN0MYpz6KhImFO-m4jA.UvdeTHp177533p-y_l9gn-5ZQnop1sdRBZUmDask6Is&amp;dib_tag=se&amp;keywords=computers&amp;pd_rd_r=c6b89fcb-04f0-45d5-aec6-e64f3253e08d&amp;pd_rd_w=NG5HC&amp;pd_rd_wg=BxmZU&amp;pf_rd_p=6afe7900-0834-4d0d-afa0-213431caed72&amp;pf_rd_r=ZQYJFX2TA2DEF3MEXM15&amp;qid=1720006158&amp;refinements=p_n_deal_type%3A23566065011&amp;sr=8-1&amp;th=1\"/>\n",
      "<div class=\"a-row a-spacing-large\">\n",
      "<div class=\"a-box\">\n",
      "<div class=\"a-box-inner\">\n",
      "<h4>\n",
      "            Type the characters you see in this image:\n",
      "           </h4>\n",
      "<div class=\"a-row a-text-center\">\n",
      "<img src=\"https://images-na.ssl-images-amazon.com/captcha/cdkxpfei/Captcha_bwgoebvdkz.jpg\"/>\n",
      "</div>\n",
      "<div class=\"a-row a-spacing-base\">\n",
      "<div class=\"a-row\">\n",
      "<div class=\"a-column a-span6\">\n",
      "</div>\n",
      "<div class=\"a-column a-span6 a-span-last a-text-right\">\n",
      "<a onclick=\"window.location.reload()\">\n",
      "               Try different image\n",
      "              </a>\n",
      "</div>\n",
      "</div>\n",
      "<input autocapitalize=\"off\" autocomplete=\"off\" autocorrect=\"off\" class=\"a-span12\" id=\"captchacharacters\" name=\"field-keywords\" placeholder=\"Type characters\" spellcheck=\"false\" type=\"text\"/>\n",
      "</div>\n",
      "</div>\n",
      "</div>\n",
      "</div>\n",
      "<div class=\"a-section a-spacing-extra-large\">\n",
      "<div class=\"a-row\">\n",
      "<span class=\"a-button a-button-primary a-span12\">\n",
      "<span class=\"a-button-inner\">\n",
      "<button class=\"a-button-text\" type=\"submit\">\n",
      "             Continue shopping\n",
      "            </button>\n",
      "</span>\n",
      "</span>\n",
      "</div>\n",
      "</div>\n",
      "</form>\n",
      "</div>\n",
      "</div>\n",
      "</div>\n",
      "</div>\n",
      "<div class=\"a-divider a-divider-section\">\n",
      "<div class=\"a-divider-inner\">\n",
      "</div>\n",
      "</div>\n",
      "<div class=\"a-text-center a-spacing-small a-size-mini\">\n",
      "<a href=\"https://www.amazon.com/gp/help/customer/display.html/ref=footer_cou?ie=UTF8&amp;nodeId=508088\">\n",
      "     Conditions of Use\n",
      "    </a>\n",
      "<span class=\"a-letter-space\">\n",
      "</span>\n",
      "<span class=\"a-letter-space\">\n",
      "</span>\n",
      "<span class=\"a-letter-space\">\n",
      "</span>\n",
      "<span class=\"a-letter-space\">\n",
      "</span>\n",
      "<a href=\"https://www.amazon.com/gp/help/customer/display.html/ref=footer_privacy?ie=UTF8&amp;nodeId=468496\">\n",
      "     Privacy Policy\n",
      "    </a>\n",
      "</div>\n",
      "<div class=\"a-text-center a-size-mini a-color-secondary\">\n",
      "    © 1996-2014, Amazon.com, Inc. or its affiliates\n",
      "    <script>\n",
      "     if (true === true) {\n",
      "             document.write('<img src=\"https://fls-na.amaz'+'on.com/'+'1/oc-csi/1/OP/requestId=K5QSE4F1EP2YGBNG7AR3&js=1\" />');\n",
      "           };\n",
      "    </script>\n",
      "<noscript>\n",
      "<img src=\"https://fls-na.amazon.com/1/oc-csi/1/OP/requestId=K5QSE4F1EP2YGBNG7AR3&amp;js=0\"/>\n",
      "</noscript>\n",
      "</div>\n",
      "</div>\n",
      "<script>\n",
      "   if (true === true) {\n",
      "        var head = document.getElementsByTagName('head')[0],\n",
      "            prefix = \"https://images-na.ssl-images-amazon.com/images/G/01/csminstrumentation/\",\n",
      "            elem = document.createElement(\"script\");\n",
      "        elem.src = prefix + \"csm-captcha-instrumentation.min.js\";\n",
      "        head.appendChild(elem);\n",
      "\n",
      "        elem = document.createElement(\"script\");\n",
      "        elem.src = prefix + \"rd-script-6d68177fa6061598e9509dc4b5bdd08d.js\";\n",
      "        head.appendChild(elem);\n",
      "    }\n",
      "  </script>\n",
      "</body>\n",
      "</html>\n",
      "\n"
     ]
    }
   ],
   "source": [
    "URL = 'https://www.amazon.com/HP-Desktop-Display-Processor-Keyboard/dp/B0B6523VBD/ref=sr_1_1?_encoding=UTF8&content-id=amzn1.sym.6afe7900-0834-4d0d-afa0-213431caed72&dib=eyJ2IjoiMSJ9.KcPm2xgne0GL1RFQzkveXJaobycLsagKm8jWZ74v2UXquHBL7DlbwCjrBjK_vVifZo3Lr1eElCBrj8Gzk9Hiw1FchaEDyoOwQAu4-QfuhIbWOQpHI-SUvF3vEWhrnGlJIIX40Znnr_PGaFDs9WNRVgwRBqDTfBQTiXj3WB7EpRjAcH8bJkqdjVltZVV1oSJGA7r6S0d2MdFnThBcyZPbNrWMRN0MYpz6KhImFO-m4jA.UvdeTHp177533p-y_l9gn-5ZQnop1sdRBZUmDask6Is&dib_tag=se&keywords=computers&pd_rd_r=c6b89fcb-04f0-45d5-aec6-e64f3253e08d&pd_rd_w=NG5HC&pd_rd_wg=BxmZU&pf_rd_p=6afe7900-0834-4d0d-afa0-213431caed72&pf_rd_r=ZQYJFX2TA2DEF3MEXM15&qid=1720006158&refinements=p_n_deal_type%3A23566065011&sr=8-1&th=1'\n",
    "headers = {\"User-Agent\": \"Mozilla/5.0 (Windows NT 10.0; Win64; x64) AppleWebKit/537.36 (KHTML, like Gecko) Chrome/126.0.0.0 Safari/537.36 Edg/126.0.0.0\"}\n",
    "page = requests.get(URL, headers=headers)\n",
    "soup1= BeautifulSoup(page.content,\"html.parser\")\n",
    "soup2= BeautifulSoup(soup1.prettify(),\"html.parser\")\n",
    "print(soup2)\n"
   ]
  },
  {
   "cell_type": "code",
   "execution_count": 89,
   "id": "3b535db4-e9c9-4cc2-bcfb-eeb9edd89495",
   "metadata": {},
   "outputs": [
    {
     "ename": "AttributeError",
     "evalue": "'NoneType' object has no attribute 'get_text'",
     "output_type": "error",
     "traceback": [
      "\u001b[1;31m---------------------------------------------------------------------------\u001b[0m",
      "\u001b[1;31mAttributeError\u001b[0m                            Traceback (most recent call last)",
      "Cell \u001b[1;32mIn[89], line 1\u001b[0m\n\u001b[1;32m----> 1\u001b[0m title \u001b[38;5;241m=\u001b[39m soup2\u001b[38;5;241m.\u001b[39mfind(\u001b[38;5;28mid\u001b[39m\u001b[38;5;241m=\u001b[39m\u001b[38;5;124m\"\u001b[39m\u001b[38;5;124mproductTitle\u001b[39m\u001b[38;5;124m\"\u001b[39m)\u001b[38;5;241m.\u001b[39mget_text()\n\u001b[0;32m      2\u001b[0m reviews \u001b[38;5;241m=\u001b[39m soup2\u001b[38;5;241m.\u001b[39mfind(\u001b[38;5;28mid\u001b[39m\u001b[38;5;241m=\u001b[39m\u001b[38;5;124m\"\u001b[39m\u001b[38;5;124macrCustomerReviewText\u001b[39m\u001b[38;5;124m\"\u001b[39m)\u001b[38;5;241m.\u001b[39mget_text()\n\u001b[0;32m      3\u001b[0m \u001b[38;5;28mprint\u001b[39m(title)\n",
      "\u001b[1;31mAttributeError\u001b[0m: 'NoneType' object has no attribute 'get_text'"
     ]
    }
   ],
   "source": [
    "title = soup2.find(id=\"productTitle\").get_text()\n",
    "reviews = soup2.find(id=\"acrCustomerReviewText\").get_text()\n",
    "print(title)\n",
    "print(reviews)"
   ]
  },
  {
   "cell_type": "code",
   "execution_count": 65,
   "id": "8658ba0b-5f49-42e7-a211-61f76db609c3",
   "metadata": {},
   "outputs": [
    {
     "name": "stdout",
     "output_type": "stream",
     "text": [
      "HP 2022 Newest All-in-One Desktop, 21.5\" FHD Display, Intel Celeron J4025 Processor, 16GB RAM, 512GB PCIe SSD, Webcam, HDMI, RJ-45, Wired Keyboard&Mouse, WiFi, Windows 11 Home, White\n",
      "747 ratings\n"
     ]
    }
   ],
   "source": [
    "title =title.strip()\n",
    "reviews  = reviews.strip()print(title)\n",
    "print(reviews)"
   ]
  },
  {
   "cell_type": "code",
   "execution_count": null,
   "id": "5e61c86e-1d34-4830-94f3-ed01b3cfedfe",
   "metadata": {},
   "outputs": [],
   "source": [
    "today =datetime.date.today()\n",
    "print(today)"
   ]
  },
  {
   "cell_type": "code",
   "execution_count": 73,
   "id": "4692a2ae-4e8e-41b4-825e-b5bed3af74dc",
   "metadata": {},
   "outputs": [],
   "source": [
    "import csv\n",
    "\n",
    "header = ['Title','Reviews','Date']\n",
    "data=[title,reviews,today]\n",
    "\n",
    "with open('Amazon_Data_Scraper.csv','w',newline='',encoding='UTF=8')as fx:\n",
    "    writer= csv.writer(fx)\n",
    "    writer.writerow(header)\n",
    "    writer.writerow(data)"
   ]
  },
  {
   "cell_type": "code",
   "execution_count": 75,
   "id": "dd70cf63-6040-4e86-884e-821024871cd7",
   "metadata": {},
   "outputs": [
    {
     "name": "stdout",
     "output_type": "stream",
     "text": [
      "                                               Title      Reviews        Date\n",
      "0  HP 2022 Newest All-in-One Desktop, 21.5\" FHD D...  747 ratings  2024-07-03\n"
     ]
    }
   ],
   "source": [
    "import pandas as pd\n",
    "\n",
    "df=pd.read_csv('Amazon_Data_Scraper.csv')\n",
    "print(df)"
   ]
  },
  {
   "cell_type": "code",
   "execution_count": 86,
   "id": "df4024d6-bc1d-4cfc-a1b4-222877fec377",
   "metadata": {},
   "outputs": [],
   "source": [
    "def send_mail():\n",
    "    server = smtplib.SMTP_SSL('smtp.gmail.com',465)\n",
    "    server.ehlo()\n",
    "    #server.starttls()\n",
    "    server.ehlo()\n",
    "    server.login('egemon.ctg786@gmail.com','xxxxxxxxxx')\n",
    "    \n",
    "    subject = \"The Shirt you want is over 800 reviews! Now is your chance to buy!\"\n",
    "    body = \"Alex, This is the moment we have been waiting for. Now is your chance to pick up the shirt of your dreams. Don't mess it up! Link here: https://www.amazon.com/Funny-Data-Systems-Business-Analyst/dp/B07FNW9FGJ/ref=sr_1_3?dchild=1&keywords=data+analyst+tshirt&qid=1626655184&sr=8-3\"\n",
    "   \n",
    "    msg = f\"Subject: {subject}\\n\\n{body}\"\n",
    "    \n",
    "    server.sendmail(\n",
    "        'AlexTheAnalyst95@gmail.com',\n",
    "        msg\n",
    "     \n",
    "    )"
   ]
  },
  {
   "cell_type": "code",
   "execution_count": 87,
   "id": "e38c2d62-a92e-4308-945f-01033d8e0744",
   "metadata": {},
   "outputs": [],
   "source": [
    "def check_reviews():\n",
    "    URL = 'https://www.amazon.com/HP-Desktop-Display-Processor-Keyboard/dp/B0B6523VBD/ref=sr_1_1?_encoding=UTF8&content-id=amzn1.sym.6afe7900-0834-4d0d-afa0-213431caed72&dib=eyJ2IjoiMSJ9.KcPm2xgne0GL1RFQzkveXJaobycLsagKm8jWZ74v2UXquHBL7DlbwCjrBjK_vVifZo3Lr1eElCBrj8Gzk9Hiw1FchaEDyoOwQAu4-QfuhIbWOQpHI-SUvF3vEWhrnGlJIIX40Znnr_PGaFDs9WNRVgwRBqDTfBQTiXj3WB7EpRjAcH8bJkqdjVltZVV1oSJGA7r6S0d2MdFnThBcyZPbNrWMRN0MYpz6KhImFO-m4jA.UvdeTHp177533p-y_l9gn-5ZQnop1sdRBZUmDask6Is&dib_tag=se&keywords=computers&pd_rd_r=c6b89fcb-04f0-45d5-aec6-e64f3253e08d&pd_rd_w=NG5HC&pd_rd_wg=BxmZU&pf_rd_p=6afe7900-0834-4d0d-afa0-213431caed72&pf_rd_r=ZQYJFX2TA2DEF3MEXM15&qid=1720006158&refinements=p_n_deal_type%3A23566065011&sr=8-1&th=1'\n",
    "    headers = {\"User-Agent\": \"Mozilla/5.0 (Windows NT 10.0; Win64; x64) AppleWebKit/537.36 (KHTML, like Gecko) Chrome/126.0.0.0 Safari/537.36 Edg/126.0.0.0\"}\n",
    "    page = requests.get(URL, headers=headers)\n",
    "    soup1= BeautifulSoup(page.content,\"html.parser\")\n",
    "    soup2= BeautifulSoup(soup1.prettify(),\"html.parser\")\n",
    "    \n",
    "    title = soup2.find(id=\"productTitle\").get_text()\n",
    "    reviews = soup2.find(id=\"acrCustomerReviewText\").get_text()\n",
    "    title =title.strip()\n",
    "    reviews  = reviews.strip()\n",
    "    today =datetime.date.today()\n",
    "    \n",
    "    import csv\n",
    "\n",
    "    header = ['Title','Reviews','Date']\n",
    "    data=[title,reviews,today]\n",
    "\n",
    "    with open('Amazon_Data_Scraper.csv','a+',newline='',encoding='UTF=8')as fx:\n",
    "        writer= csv.writer(fx)\n",
    "        writer.writerow(data)\n",
    "    if (800<reviews):\n",
    "        sent_email()\n",
    "    "
   ]
  },
  {
   "cell_type": "code",
   "execution_count": 88,
   "id": "486ca834-e481-438a-a661-4a5c268b49f7",
   "metadata": {},
   "outputs": [
    {
     "ename": "TypeError",
     "evalue": "'<' not supported between instances of 'int' and 'str'",
     "output_type": "error",
     "traceback": [
      "\u001b[1;31m---------------------------------------------------------------------------\u001b[0m",
      "\u001b[1;31mTypeError\u001b[0m                                 Traceback (most recent call last)",
      "Cell \u001b[1;32mIn[88], line 2\u001b[0m\n\u001b[0;32m      1\u001b[0m \u001b[38;5;28;01mwhile\u001b[39;00m(\u001b[38;5;28;01mTrue\u001b[39;00m):\n\u001b[1;32m----> 2\u001b[0m     check_reviews()\n\u001b[0;32m      3\u001b[0m     time\u001b[38;5;241m.\u001b[39msleep(\u001b[38;5;241m86400\u001b[39m)\n",
      "Cell \u001b[1;32mIn[87], line 22\u001b[0m, in \u001b[0;36mcheck_reviews\u001b[1;34m()\u001b[0m\n\u001b[0;32m     20\u001b[0m     writer\u001b[38;5;241m=\u001b[39m csv\u001b[38;5;241m.\u001b[39mwriter(fx)\n\u001b[0;32m     21\u001b[0m     writer\u001b[38;5;241m.\u001b[39mwriterow(data)\n\u001b[1;32m---> 22\u001b[0m \u001b[38;5;28;01mif\u001b[39;00m (\u001b[38;5;241m800\u001b[39m\u001b[38;5;241m<\u001b[39mreviews):\n\u001b[0;32m     23\u001b[0m     sent_email()\n",
      "\u001b[1;31mTypeError\u001b[0m: '<' not supported between instances of 'int' and 'str'"
     ]
    }
   ],
   "source": [
    "while(True):\n",
    "    check_reviews()\n",
    "    time.sleep(86400)"
   ]
  },
  {
   "cell_type": "code",
   "execution_count": 78,
   "id": "50be2eba-6940-4179-bb91-5433a7f0eee9",
   "metadata": {},
   "outputs": [
    {
     "name": "stdout",
     "output_type": "stream",
     "text": [
      "                                               Title      Reviews        Date\n",
      "0  HP 2022 Newest All-in-One Desktop, 21.5\" FHD D...  747 ratings  2024-07-03\n"
     ]
    }
   ],
   "source": [
    "df=pd.read_csv('Amazon_Data_Scraper.csv')\n",
    "print(df)"
   ]
  },
  {
   "cell_type": "code",
   "execution_count": null,
   "id": "9ff11577-addb-446a-a996-6b9a112ae2bc",
   "metadata": {},
   "outputs": [],
   "source": []
  }
 ],
 "metadata": {
  "kernelspec": {
   "display_name": "Python 3 (ipykernel)",
   "language": "python",
   "name": "python3"
  },
  "language_info": {
   "codemirror_mode": {
    "name": "ipython",
    "version": 3
   },
   "file_extension": ".py",
   "mimetype": "text/x-python",
   "name": "python",
   "nbconvert_exporter": "python",
   "pygments_lexer": "ipython3",
   "version": "3.11.7"
  }
 },
 "nbformat": 4,
 "nbformat_minor": 5
}
